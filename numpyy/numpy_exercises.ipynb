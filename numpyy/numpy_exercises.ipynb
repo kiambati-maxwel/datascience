{
 "cells": [
  {
   "cell_type": "markdown",
   "id": "1db7237c",
   "metadata": {},
   "source": [
    "## NumPy Exercises"
   ]
  },
  {
   "cell_type": "code",
   "execution_count": 1,
   "id": "c9e00542",
   "metadata": {},
   "outputs": [],
   "source": [
    "# get numpy version and show numpy build configuration\n",
    "\n",
    "import numpy as np\n",
    "# print(np.__version__)\n",
    "# print(np.show_config())"
   ]
  },
  {
   "cell_type": "code",
   "execution_count": null,
   "id": "6cfff34f",
   "metadata": {},
   "outputs": [],
   "source": [
    "# get help on add function\n",
    "np.info(np.add)"
   ]
  },
  {
   "cell_type": "code",
   "execution_count": null,
   "id": "d51c6f81",
   "metadata": {},
   "outputs": [],
   "source": [
    "# add all elements of an array\n",
    "numbers = np.array([[1,2,3],[4,5,6]])\n",
    "second_set = np.array([[2,3,4],[5,6,7]])\n",
    "print(numbers)\n",
    "\n",
    "np.sum(numbers)\n",
    "np.add(numbers, second_set)"
   ]
  },
  {
   "cell_type": "code",
   "execution_count": null,
   "id": "4118a72c",
   "metadata": {},
   "outputs": [],
   "source": [
    "# test wheather there exists a non zero element in an array\n",
    "\n",
    "non_zero_array = np.array([0,3,4,5,6])\n",
    "print(non_zero_array)\n",
    "\n",
    "print(np.all(non_zero_array)) # should return zero if no 0\n",
    "\n",
    "# test if any element is a non zero\n",
    "print(np.any(non_zero_array))\n"
   ]
  },
  {
   "cell_type": "code",
   "execution_count": 3,
   "id": "58834429",
   "metadata": {},
   "outputs": [
    {
     "name": "stdout",
     "output_type": "stream",
     "text": [
      "[ True  True False False]\n"
     ]
    }
   ],
   "source": [
    "# check if an array is fit (no infinity values or non numbers)\n",
    "\n",
    "print(np.isfinite(a))\n"
   ]
  },
  {
   "cell_type": "code",
   "execution_count": 4,
   "id": "0afcb17f",
   "metadata": {},
   "outputs": [
    {
     "name": "stdout",
     "output_type": "stream",
     "text": [
      "[False False  True False]\n"
     ]
    }
   ],
   "source": [
    "# test if an element in an array is Nan\n",
    "\n",
    "print(np.isnan(a))"
   ]
  },
  {
   "cell_type": "code",
   "execution_count": 5,
   "id": "6eb39688",
   "metadata": {},
   "outputs": [
    {
     "name": "stdout",
     "output_type": "stream",
     "text": [
      "Original array\n",
      "[1. +1.j 1. +0.j 4.5+0.j 3. +0.j 2. +0.j 0. +2.j]\n",
      "Checking for complex number:\n",
      "[ True False False False False  True]\n",
      "Checking for real number:\n",
      "[False  True  True  True  True False]\n",
      "Checking for scalar type:\n",
      "True\n",
      "False\n"
     ]
    }
   ],
   "source": [
    "# Check if elements in an array are complex numbers\n",
    "#  if they are scalars, or real numbers\n",
    "\n",
    "a = np.array([1+1j, 1+0j, 4.5, 3, 2, 2j])\n",
    "print(\"Original array\")\n",
    "print(a)\n",
    "print(\"Checking for complex number:\")\n",
    "print(np.iscomplex(a))\n",
    "print(\"Checking for real number:\")\n",
    "print(np.isreal(a))\n",
    "print(\"Checking for scalar type:\")\n",
    "print(np.isscalar(3.1))\n",
    "print(np.isscalar([3.1]))\n"
   ]
  },
  {
   "cell_type": "code",
   "execution_count": null,
   "id": "01239ae4",
   "metadata": {},
   "outputs": [],
   "source": []
  },
  {
   "cell_type": "code",
   "execution_count": null,
   "id": "d3200391",
   "metadata": {},
   "outputs": [],
   "source": []
  },
  {
   "cell_type": "code",
   "execution_count": null,
   "id": "d4dd4fcc",
   "metadata": {},
   "outputs": [],
   "source": []
  },
  {
   "cell_type": "code",
   "execution_count": null,
   "id": "b967ce98",
   "metadata": {},
   "outputs": [],
   "source": []
  },
  {
   "cell_type": "code",
   "execution_count": null,
   "id": "de1637b6",
   "metadata": {},
   "outputs": [],
   "source": []
  },
  {
   "cell_type": "code",
   "execution_count": null,
   "id": "bc192dd5",
   "metadata": {},
   "outputs": [],
   "source": []
  },
  {
   "cell_type": "code",
   "execution_count": null,
   "id": "2ad3c17c",
   "metadata": {},
   "outputs": [],
   "source": []
  },
  {
   "cell_type": "code",
   "execution_count": null,
   "id": "72ad3b61",
   "metadata": {},
   "outputs": [],
   "source": []
  }
 ],
 "metadata": {
  "kernelspec": {
   "display_name": "Python 3",
   "language": "python",
   "name": "python3"
  },
  "language_info": {
   "codemirror_mode": {
    "name": "ipython",
    "version": 3
   },
   "file_extension": ".py",
   "mimetype": "text/x-python",
   "name": "python",
   "nbconvert_exporter": "python",
   "pygments_lexer": "ipython3",
   "version": "3.8.8"
  }
 },
 "nbformat": 4,
 "nbformat_minor": 5
}
